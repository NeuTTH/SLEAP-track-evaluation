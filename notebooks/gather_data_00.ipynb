{
 "cells": [
  {
   "cell_type": "code",
   "execution_count": 1,
   "metadata": {},
   "outputs": [],
   "source": [
    "import os\n",
    "import h5py\n",
    "\n",
    "import numpy as np\n",
    "import pandas as pd\n",
    "\n",
    "import matplotlib.pyplot as plt\n",
    "import seaborn as sns\n",
    "from rich.progress import track\n",
    "\n",
    "from einops import rearrange, reduce"
   ]
  },
  {
   "cell_type": "code",
   "execution_count": 2,
   "metadata": {},
   "outputs": [],
   "source": [
    "joint_node_names = ['nose', 'head',\n",
    "                    'ear_left', 'ear_right',\n",
    "                    'trunk', 'tti',\n",
    "                    'tail_tip', 't0',\n",
    "                    't1', 't2',\n",
    "                    'neck', 'hindpaw_left',\n",
    "                    'hindpaw_right', 'forepaw_left',\n",
    "                    'forepaw_right']"
   ]
  },
  {
   "cell_type": "code",
   "execution_count": 5,
   "metadata": {},
   "outputs": [
    {
     "data": {
      "application/vnd.jupyter.widget-view+json": {
       "model_id": "be3d4b0c695c4848b0815722bdb2e33d",
       "version_major": 2,
       "version_minor": 0
      },
      "text/plain": [
       "Output()"
      ]
     },
     "metadata": {},
     "output_type": "display_data"
    },
    {
     "name": "stdout",
     "output_type": "stream",
     "text": [
      "Now dealing with condition: sham_gdx\n",
      "Total files gathered: 36\n"
     ]
    },
    {
     "data": {
      "text/html": [
       "<pre style=\"white-space:pre;overflow-x:auto;line-height:normal;font-family:Menlo,'DejaVu Sans Mono',consolas,'Courier New',monospace\"></pre>\n"
      ],
      "text/plain": []
     },
     "metadata": {},
     "output_type": "display_data"
    },
    {
     "data": {
      "text/html": [
       "<pre style=\"white-space:pre;overflow-x:auto;line-height:normal;font-family:Menlo,'DejaVu Sans Mono',consolas,'Courier New',monospace\">\n",
       "</pre>\n"
      ],
      "text/plain": [
       "\n"
      ]
     },
     "metadata": {},
     "output_type": "display_data"
    },
    {
     "data": {
      "application/vnd.jupyter.widget-view+json": {
       "model_id": "dbcc76301eb14c8ab63f709a50095428",
       "version_major": 2,
       "version_minor": 0
      },
      "text/plain": [
       "Output()"
      ]
     },
     "metadata": {},
     "output_type": "display_data"
    },
    {
     "name": "stdout",
     "output_type": "stream",
     "text": [
      "Now dealing with condition: testosterone\n",
      "Total files gathered: 217\n"
     ]
    },
    {
     "data": {
      "text/html": [
       "<pre style=\"white-space:pre;overflow-x:auto;line-height:normal;font-family:Menlo,'DejaVu Sans Mono',consolas,'Courier New',monospace\">h5py file /jukebox/falkner/Mae/macrocircuit_context_hormone_experiments/data/testosterone/111\n",
       "696_3328/220629/proofread_sleap_output/220629_111696_28_balbc_stim.analysis.h5 cannot be \n",
       "read, skipping for now.\n",
       "</pre>\n"
      ],
      "text/plain": [
       "h5py file /jukebox/falkner/Mae/macrocircuit_context_hormone_experiments/data/testosterone/111\n",
       "696_3328/220629/proofread_sleap_output/220629_111696_28_balbc_stim.analysis.h5 cannot be \n",
       "read, skipping for now.\n"
      ]
     },
     "metadata": {},
     "output_type": "display_data"
    },
    {
     "data": {
      "text/html": [
       "<pre style=\"white-space:pre;overflow-x:auto;line-height:normal;font-family:Menlo,'DejaVu Sans Mono',consolas,'Courier New',monospace\">h5py file /jukebox/falkner/Mae/macrocircuit_context_hormone_experiments/data/testosterone/111\n",
       "697_3315/220630/proofread_sleap_output/220630_111697_3315_balbc_home.analysis.h5 cannot be \n",
       "read, skipping for now.\n",
       "</pre>\n"
      ],
      "text/plain": [
       "h5py file /jukebox/falkner/Mae/macrocircuit_context_hormone_experiments/data/testosterone/111\n",
       "697_3315/220630/proofread_sleap_output/220630_111697_3315_balbc_home.analysis.h5 cannot be \n",
       "read, skipping for now.\n"
      ]
     },
     "metadata": {},
     "output_type": "display_data"
    },
    {
     "data": {
      "text/html": [
       "<pre style=\"white-space:pre;overflow-x:auto;line-height:normal;font-family:Menlo,'DejaVu Sans Mono',consolas,'Courier New',monospace\">Path: /jukebox/falkner/Mae/macrocircuit_context_hormone_experiments/data/testosterone/111697_\n",
       "3315/220702/proofread_sleap_output/220702_111697_3315_cdm_home.analysis.h5, Length of video: \n",
       "9522, actual duration: 3569\n",
       "</pre>\n"
      ],
      "text/plain": [
       "Path: /jukebox/falkner/Mae/macrocircuit_context_hormone_experiments/data/testosterone/111697_\n",
       "3315/220702/proofread_sleap_output/220702_111697_3315_cdm_home.analysis.h5, Length of video: \n",
       "9522, actual duration: 3569\n"
      ]
     },
     "metadata": {},
     "output_type": "display_data"
    },
    {
     "data": {
      "text/html": [
       "<pre style=\"white-space:pre;overflow-x:auto;line-height:normal;font-family:Menlo,'DejaVu Sans Mono',consolas,'Courier New',monospace\"></pre>\n"
      ],
      "text/plain": []
     },
     "metadata": {},
     "output_type": "display_data"
    },
    {
     "data": {
      "text/html": [
       "<pre style=\"white-space:pre;overflow-x:auto;line-height:normal;font-family:Menlo,'DejaVu Sans Mono',consolas,'Courier New',monospace\">\n",
       "</pre>\n"
      ],
      "text/plain": [
       "\n"
      ]
     },
     "metadata": {},
     "output_type": "display_data"
    },
    {
     "data": {
      "application/vnd.jupyter.widget-view+json": {
       "model_id": "fdf137daa9504684b3525965bdf0e520",
       "version_major": 2,
       "version_minor": 0
      },
      "text/plain": [
       "Output()"
      ]
     },
     "metadata": {},
     "output_type": "display_data"
    },
    {
     "name": "stdout",
     "output_type": "stream",
     "text": [
      "Now dealing with condition: gdx\n",
      "Total files gathered: 252\n"
     ]
    },
    {
     "data": {
      "text/html": [
       "<pre style=\"white-space:pre;overflow-x:auto;line-height:normal;font-family:Menlo,'DejaVu Sans Mono',consolas,'Courier New',monospace\">Path: /jukebox/falkner/Mae/macrocircuit_context_hormone_experiments/data/gdx/2749m/220801/pro\n",
       "ofread_sleap_output/220801_2749_cdf_stim.analysis.h5, Length of video: 9670, actual duration:\n",
       "4226\n",
       "</pre>\n"
      ],
      "text/plain": [
       "Path: /jukebox/falkner/Mae/macrocircuit_context_hormone_experiments/data/gdx/2749m/220801/pro\n",
       "ofread_sleap_output/220801_2749_cdf_stim.analysis.h5, Length of video: 9670, actual duration:\n",
       "4226\n"
      ]
     },
     "metadata": {},
     "output_type": "display_data"
    },
    {
     "data": {
      "text/html": [
       "<pre style=\"white-space:pre;overflow-x:auto;line-height:normal;font-family:Menlo,'DejaVu Sans Mono',consolas,'Courier New',monospace\">Path: /jukebox/falkner/Mae/macrocircuit_context_hormone_experiments/data/gdx/2749m/220805/pro\n",
       "ofread_sleap_output/220805_2749_cdf_home.analysis.h5, Length of video: 9604, actual duration:\n",
       "3652\n",
       "</pre>\n"
      ],
      "text/plain": [
       "Path: /jukebox/falkner/Mae/macrocircuit_context_hormone_experiments/data/gdx/2749m/220805/pro\n",
       "ofread_sleap_output/220805_2749_cdf_home.analysis.h5, Length of video: 9604, actual duration:\n",
       "3652\n"
      ]
     },
     "metadata": {},
     "output_type": "display_data"
    },
    {
     "data": {
      "text/html": [
       "<pre style=\"white-space:pre;overflow-x:auto;line-height:normal;font-family:Menlo,'DejaVu Sans Mono',consolas,'Courier New',monospace\">Path: /jukebox/falkner/Mae/macrocircuit_context_hormone_experiments/data/gdx/5001f/220803/pro\n",
       "ofread_sleap_output/220803_5001_cdf_home.analysis.h5, Length of video: 9612, actual duration:\n",
       "2132\n",
       "</pre>\n"
      ],
      "text/plain": [
       "Path: /jukebox/falkner/Mae/macrocircuit_context_hormone_experiments/data/gdx/5001f/220803/pro\n",
       "ofread_sleap_output/220803_5001_cdf_home.analysis.h5, Length of video: 9612, actual duration:\n",
       "2132\n"
      ]
     },
     "metadata": {},
     "output_type": "display_data"
    },
    {
     "data": {
      "text/html": [
       "<pre style=\"white-space:pre;overflow-x:auto;line-height:normal;font-family:Menlo,'DejaVu Sans Mono',consolas,'Courier New',monospace\">Path: /jukebox/falkner/Mae/macrocircuit_context_hormone_experiments/data/gdx/5001f/220801/pro\n",
       "ofread_sleap_output/220801_5001_balbc_home.analysis.h5, Length of video: 9554, actual \n",
       "duration: 4261\n",
       "</pre>\n"
      ],
      "text/plain": [
       "Path: /jukebox/falkner/Mae/macrocircuit_context_hormone_experiments/data/gdx/5001f/220801/pro\n",
       "ofread_sleap_output/220801_5001_balbc_home.analysis.h5, Length of video: 9554, actual \n",
       "duration: 4261\n"
      ]
     },
     "metadata": {},
     "output_type": "display_data"
    },
    {
     "data": {
      "text/html": [
       "<pre style=\"white-space:pre;overflow-x:auto;line-height:normal;font-family:Menlo,'DejaVu Sans Mono',consolas,'Courier New',monospace\"></pre>\n"
      ],
      "text/plain": []
     },
     "metadata": {},
     "output_type": "display_data"
    },
    {
     "data": {
      "text/html": [
       "<pre style=\"white-space:pre;overflow-x:auto;line-height:normal;font-family:Menlo,'DejaVu Sans Mono',consolas,'Courier New',monospace\">\n",
       "</pre>\n"
      ],
      "text/plain": [
       "\n"
      ]
     },
     "metadata": {},
     "output_type": "display_data"
    },
    {
     "data": {
      "application/vnd.jupyter.widget-view+json": {
       "model_id": "d885cb5f17ba4e78abda066c5202130b",
       "version_major": 2,
       "version_minor": 0
      },
      "text/plain": [
       "Output()"
      ]
     },
     "metadata": {},
     "output_type": "display_data"
    },
    {
     "name": "stdout",
     "output_type": "stream",
     "text": [
      "Now dealing with condition: intact\n",
      "Total files gathered: 495\n"
     ]
    },
    {
     "data": {
      "text/html": [
       "<pre style=\"white-space:pre;overflow-x:auto;line-height:normal;font-family:Menlo,'DejaVu Sans Mono',consolas,'Courier New',monospace\">Path: /jukebox/falkner/Mae/macrocircuit_context_hormone_experiments/data/intact/103187_1/2111\n",
       "03/proofread_sleap_output/211103_1_stim_balbc.analysis.h5, Length of video: 9612, actual \n",
       "duration: 4361\n",
       "</pre>\n"
      ],
      "text/plain": [
       "Path: /jukebox/falkner/Mae/macrocircuit_context_hormone_experiments/data/intact/103187_1/2111\n",
       "03/proofread_sleap_output/211103_1_stim_balbc.analysis.h5, Length of video: 9612, actual \n",
       "duration: 4361\n"
      ]
     },
     "metadata": {},
     "output_type": "display_data"
    },
    {
     "data": {
      "text/html": [
       "<pre style=\"white-space:pre;overflow-x:auto;line-height:normal;font-family:Menlo,'DejaVu Sans Mono',consolas,'Courier New',monospace\">Path: /jukebox/falkner/Mae/macrocircuit_context_hormone_experiments/data/intact/111662_95/220\n",
       "418/proofread_sleap_output/220418_95_balbc_home.analysis.h5, Length of video: 10398, actual \n",
       "duration: 5760\n",
       "</pre>\n"
      ],
      "text/plain": [
       "Path: /jukebox/falkner/Mae/macrocircuit_context_hormone_experiments/data/intact/111662_95/220\n",
       "418/proofread_sleap_output/220418_95_balbc_home.analysis.h5, Length of video: 10398, actual \n",
       "duration: 5760\n"
      ]
     },
     "metadata": {},
     "output_type": "display_data"
    },
    {
     "data": {
      "text/html": [
       "<pre style=\"white-space:pre;overflow-x:auto;line-height:normal;font-family:Menlo,'DejaVu Sans Mono',consolas,'Courier New',monospace\">Path: /jukebox/falkner/Mae/macrocircuit_context_hormone_experiments/data/intact/104147_48/220\n",
       "214/proofread_sleap_output/220214_48_cdf_stim.analysis.h5, Length of video: 9828, actual \n",
       "duration: 4633\n",
       "</pre>\n"
      ],
      "text/plain": [
       "Path: /jukebox/falkner/Mae/macrocircuit_context_hormone_experiments/data/intact/104147_48/220\n",
       "214/proofread_sleap_output/220214_48_cdf_stim.analysis.h5, Length of video: 9828, actual \n",
       "duration: 4633\n"
      ]
     },
     "metadata": {},
     "output_type": "display_data"
    },
    {
     "data": {
      "text/html": [
       "<pre style=\"white-space:pre;overflow-x:auto;line-height:normal;font-family:Menlo,'DejaVu Sans Mono',consolas,'Courier New',monospace\">Path: /jukebox/falkner/Mae/macrocircuit_context_hormone_experiments/data/intact/111696_3328/2\n",
       "20611/proofread_sleap_output/220611_111696_3328_cdf_stim.analysis.h5, Length of video: 9887, \n",
       "actual duration: 5020\n",
       "</pre>\n"
      ],
      "text/plain": [
       "Path: /jukebox/falkner/Mae/macrocircuit_context_hormone_experiments/data/intact/111696_3328/2\n",
       "20611/proofread_sleap_output/220611_111696_3328_cdf_stim.analysis.h5, Length of video: 9887, \n",
       "actual duration: 5020\n"
      ]
     },
     "metadata": {},
     "output_type": "display_data"
    },
    {
     "data": {
      "text/html": [
       "<pre style=\"white-space:pre;overflow-x:auto;line-height:normal;font-family:Menlo,'DejaVu Sans Mono',consolas,'Courier New',monospace\">Path: /jukebox/falkner/Mae/macrocircuit_context_hormone_experiments/data/intact/111696_3328/2\n",
       "20609/proofread_sleap_output/220609_111696_28_cdm_home.analysis.h5, Length of video: 7762, \n",
       "actual duration: 583\n",
       "</pre>\n"
      ],
      "text/plain": [
       "Path: /jukebox/falkner/Mae/macrocircuit_context_hormone_experiments/data/intact/111696_3328/2\n",
       "20609/proofread_sleap_output/220609_111696_28_cdm_home.analysis.h5, Length of video: 7762, \n",
       "actual duration: 583\n"
      ]
     },
     "metadata": {},
     "output_type": "display_data"
    },
    {
     "data": {
      "text/html": [
       "<pre style=\"white-space:pre;overflow-x:auto;line-height:normal;font-family:Menlo,'DejaVu Sans Mono',consolas,'Courier New',monospace\">Path: /jukebox/falkner/Mae/macrocircuit_context_hormone_experiments/data/intact/111696_3328/2\n",
       "20609/proofread_sleap_output/220609_111696_3328_cdm_home.analysis.h5, Length of video: 8754, \n",
       "actual duration: 2140\n",
       "</pre>\n"
      ],
      "text/plain": [
       "Path: /jukebox/falkner/Mae/macrocircuit_context_hormone_experiments/data/intact/111696_3328/2\n",
       "20609/proofread_sleap_output/220609_111696_3328_cdm_home.analysis.h5, Length of video: 8754, \n",
       "actual duration: 2140\n"
      ]
     },
     "metadata": {},
     "output_type": "display_data"
    },
    {
     "data": {
      "text/html": [
       "<pre style=\"white-space:pre;overflow-x:auto;line-height:normal;font-family:Menlo,'DejaVu Sans Mono',consolas,'Courier New',monospace\">Path: /jukebox/falkner/Mae/macrocircuit_context_hormone_experiments/data/intact/111697_3315/2\n",
       "20610/proofread_sleap_output/220610_111697_15_cdf_stim.analysis.h5, Length of video: 9512, \n",
       "actual duration: 3750\n",
       "</pre>\n"
      ],
      "text/plain": [
       "Path: /jukebox/falkner/Mae/macrocircuit_context_hormone_experiments/data/intact/111697_3315/2\n",
       "20610/proofread_sleap_output/220610_111697_15_cdf_stim.analysis.h5, Length of video: 9512, \n",
       "actual duration: 3750\n"
      ]
     },
     "metadata": {},
     "output_type": "display_data"
    },
    {
     "data": {
      "text/html": [
       "<pre style=\"white-space:pre;overflow-x:auto;line-height:normal;font-family:Menlo,'DejaVu Sans Mono',consolas,'Courier New',monospace\">Path: /jukebox/falkner/Mae/macrocircuit_context_hormone_experiments/data/intact/111697_3315/2\n",
       "20610/proofread_sleap_output/220610_111697_15_balbc_home.analysis.h5, Length of video: 9755, \n",
       "actual duration: 4413\n",
       "</pre>\n"
      ],
      "text/plain": [
       "Path: /jukebox/falkner/Mae/macrocircuit_context_hormone_experiments/data/intact/111697_3315/2\n",
       "20610/proofread_sleap_output/220610_111697_15_balbc_home.analysis.h5, Length of video: 9755, \n",
       "actual duration: 4413\n"
      ]
     },
     "metadata": {},
     "output_type": "display_data"
    },
    {
     "data": {
      "text/html": [
       "<pre style=\"white-space:pre;overflow-x:auto;line-height:normal;font-family:Menlo,'DejaVu Sans Mono',consolas,'Courier New',monospace\"></pre>\n"
      ],
      "text/plain": []
     },
     "metadata": {},
     "output_type": "display_data"
    },
    {
     "data": {
      "text/html": [
       "<pre style=\"white-space:pre;overflow-x:auto;line-height:normal;font-family:Menlo,'DejaVu Sans Mono',consolas,'Courier New',monospace\">\n",
       "</pre>\n"
      ],
      "text/plain": [
       "\n"
      ]
     },
     "metadata": {},
     "output_type": "display_data"
    }
   ],
   "source": [
    "data_path = '/jukebox/falkner/Mae/macrocircuit_context_hormone_experiments/data/'\n",
    "condition_list = [\"sham_gdx\", \"testosterone\", \"gdx\", \"intact\"]\n",
    "less_overlap_path = []\n",
    "all_slp_list = []\n",
    "fps = 40\n",
    "start_time = int(60 * fps)\n",
    "exp_duration = 180 * fps\n",
    "\n",
    "avail_files = pd.read_csv(os.path.join(data_path, 'analysis_headers.csv'))[[\"folder_id\"]].to_numpy().flatten()\n",
    "\n",
    "for cond in condition_list:\n",
    "    print(f\"Now dealing with condition: {cond}\")\n",
    "    count = 0\n",
    "    mouse_list = [i for i in os.listdir(os.path.join(data_path, cond)) if i in avail_files]\n",
    "    all_slp_list = []\n",
    "    \n",
    "    for mouse in mouse_list:\n",
    "        mouse_path = os.path.join(data_path, cond, mouse)\n",
    "        if os.path.isdir(mouse_path):\n",
    "            days_path = os.listdir(mouse_path)\n",
    "            id = \"\" + mouse\n",
    "            day_slp_path_list = [os.path.join(mouse_path, day, \"proofread_sleap_output\") for day in days_path if \"Store\" not in day]\n",
    "            for day_idx, day_slp_path in enumerate(day_slp_path_list):\n",
    "                if os.path.isdir(day_slp_path):\n",
    "                    id += f\"_d{day_idx}\"\n",
    "                    for f in os.listdir(day_slp_path):\n",
    "                        if (f.endswith(\".analysis.h5\")) and (\"nest\" not in f) and (\"bedding\" not in f):\n",
    "                            all_slp_list.append(os.path.join(day_slp_path, f))\n",
    "    print(f\"Total files gathered: {len(all_slp_list)}\")\n",
    "    preprocess_track_dict = {}\n",
    "    abbrev_list = [\"_\".join(i.split(\"/\")[-1].split(\".\")[:-2]) for i in all_slp_list]\n",
    "    \n",
    "    assert len(np.unique(abbrev_list)) == len(all_slp_list)\n",
    "    for (abbrev_key, path) in track(zip(abbrev_list, all_slp_list), \n",
    "                                    description = \"Selecting tracks\",\n",
    "                                    total = len(all_slp_list)):\n",
    "        example_file_path = os.path.join(day_slp_path, path)\n",
    "        try:\n",
    "            with h5py.File(example_file_path, \"r\") as f:\n",
    "                dset_names = list(f.keys())\n",
    "                node_names = np.array([i.decode() for i in f[\"node_names\"][:]])\n",
    "                locations = f[\"tracks\"][:].T\n",
    "                point_scores = f[\"point_scores\"][:].T\n",
    "                track_scores = f[\"tracking_scores\"][:].T\n",
    "                track_occupancy = f[\"track_occupancy\"][:]\n",
    "                \n",
    "            if locations.shape[1] > len(joint_node_names):\n",
    "                joint_idx = np.array([np.where(node_names == i)[0][0] for i in joint_node_names])\n",
    "                if not np.all(joint_idx == np.arange(len(joint_node_names))):\n",
    "                    print(\"Joint idx not in order\")\n",
    "                locations = locations[:, joint_idx, :, :]\n",
    "                point_scores = point_scores[:, joint_idx, :]\n",
    "            \n",
    "                \n",
    "            assert locations.shape[1] == len(joint_node_names)\n",
    "            assert point_scores.shape[1] == len(joint_node_names)\n",
    "                \n",
    "            # Clean out the track occupancy to only two, get index\n",
    "            possible_pairs = []\n",
    "            track_len = track_occupancy.shape[1]\n",
    "            \n",
    "            if track_occupancy.shape[1] > 2:\n",
    "                for i in range(track_len - 1):\n",
    "                    overlap_idx = np.zeros((track_len,))\n",
    "                    overlap_idx[i] = 1\n",
    "                    overlap_idx[i + 1] = 1\n",
    "                    len_overlap = np.where(np.all(track_occupancy == overlap_idx, axis = 1))[0]\n",
    "                    if (\n",
    "                            (len(len_overlap) > 0) and \n",
    "                            (len_overlap[-1] - len_overlap[0] > exp_duration) and\n",
    "                            len(len_overlap) > .6 * (len_overlap[-1] - len_overlap[0])\n",
    "                        ):\n",
    "                        possible_pairs.append((i, len_overlap[0], len_overlap[-1] - len_overlap[0]))\n",
    "                        \n",
    "                if len(possible_pairs) > 1:\n",
    "                    raise Exception(\"More than one pair of tracks found\")\n",
    "                if len(possible_pairs) == 0:\n",
    "                    raise Exception(\"No pair of tracks found\")\n",
    "                \n",
    "            elif track_occupancy.shape[1] == 2:\n",
    "                len_overlap = np.where(np.all(track_occupancy == np.array([1, 1]), axis = 1))[0]\n",
    "                duration = len_overlap[-1] - len_overlap[0]\n",
    "                if (\n",
    "                    len(len_overlap) < .6 * duration\n",
    "                ):\n",
    "                    print(f\"Path: {example_file_path}, Length of video: {duration}, actual duration: {len(len_overlap)}\")\n",
    "                    less_overlap_path.append((cond, example_file_path, duration, len(len_overlap)))\n",
    "                    \n",
    "                possible_pairs.append((0, len_overlap[0], duration))\n",
    "            else:\n",
    "                raise Exception(\"Only one track!\")\n",
    "                \n",
    "            track_idx = possible_pairs[0][0]\n",
    "            select_idx = np.array([track_idx, track_idx + 1])\n",
    "            start_time = possible_pairs[0][1] + fps * 5 # Cut some frames out for initialization\n",
    "            end_time = start_time + possible_pairs[0][2] - fps * 5 # Cut some frames out before ending \n",
    "            \n",
    "            filtered_track = track_occupancy[start_time: end_time, select_idx]\n",
    "            filtered_loc = locations[start_time: end_time, :, :, select_idx]\n",
    "            filtered_point_scores = point_scores[start_time: end_time, : , select_idx]\n",
    "            filtered_track_scores = track_scores[start_time: end_time, select_idx]\n",
    "            \n",
    "            preprocess_track_dict[abbrev_key] = (path, start_time, select_idx, filtered_track, filtered_loc, filtered_point_scores, filtered_track_scores)\n",
    "            ## Implement some random showing if needed\n",
    "            ## First run with figures\n",
    "            # fig, axs = plt.subplots(2, 1, figsize = (9, 5), sharex = True)\n",
    "            # axs[0].imshow(track_occupancy.T, aspect = \"auto\")\n",
    "            # axs[0].set_title(\"Before\")\n",
    "            # axs[0].set_yticks(np.arange(track_len))\n",
    "            # rescaled_trimmed = np.hstack([np.zeros((2, start_time)), filtered_track.T, np.zeros((2, track_occupancy.shape[0] - end_time))])\n",
    "            # axs[1].imshow(rescaled_trimmed, aspect = \"auto\")\n",
    "            # axs[1].set_title(f\"Start frame: {start_time}, end frame: {end_time}, duration: {end_time - start_time}, with track {track_idx} and {track_idx + 1} selected\")\n",
    "            # axs[1].set_yticks([0, 1])\n",
    "            # plt.savefig(os.path.join(out_fig_path, \"_\".join(path.split(\"/\")[-1].split(\".\")[:-2])), dpi = 150)\n",
    "            # plt.close(fig)\n",
    "        except:\n",
    "            print(f\"h5py file {example_file_path} cannot be read, skipping for now.\")\n",
    "            \n",
    "    # np.save(os.path.join(\"/mnt/cup/people/tt1131/projects/rotation_project_spring/tracks_evaluation/\", f\"{cond}_track_dict_abrv.npy\"), preprocess_track_dict)"
   ]
  },
  {
   "cell_type": "code",
   "execution_count": null,
   "metadata": {},
   "outputs": [],
   "source": [
    "# For more abbreviated keys in each dictionary\n",
    "\n",
    "# condition_list = [\"sham_gdx\", \"testosterone\", \"gdx\", \"intact\"]\n",
    "\n",
    "# for cond in condition_list:\n",
    "#     cond_dict = np.load(os.path.join(data_path, f\"{cond}_preprocess_track_dict.npy\"), allow_pickle=True).item()\n",
    "#     abbrev_keys = [\"_\".join(i.split(\"/\")[-1].split(\".\")[:-2]) for i in [*cond_dict.keys()]]\n",
    "#     assert len(np.unique(abbrev_keys)) == len(cond_dict.keys())\n",
    "#     abbrev_dict = {}\n",
    "#     for i in [*cond_dict.keys()]:\n",
    "#         abbrev_dict[\"_\".join(i.split(\"/\")[-1].split(\".\")[:-2])] = cond_dict[i]\n",
    "#     np.save(os.path.join(data_path, f\"{cond}_track_dict_abrv.npy\"), abbrev_dict)"
   ]
  },
  {
   "cell_type": "code",
   "execution_count": 63,
   "metadata": {},
   "outputs": [
    {
     "name": "stdout",
     "output_type": "stream",
     "text": [
      "Start frame: 4178, end frame: 13758 with track 2 and 3 selected\n"
     ]
    },
    {
     "data": {
      "image/png": "[encoded data removed]",
      "text/plain": [
       "<Figure size 1200x600 with 2 Axes>"
      ]
     },
     "metadata": {},
     "output_type": "display_data"
    }
   ],
   "source": [
    "## Single test scenario\n",
    "# test_path = \"/jukebox/falkner/Mae/macrocircuit_context_hormone_experiments/data/intact/3915m/220819/proofread_sleap_output/220819_3915_cdm_home.analysis.h5\"\n",
    "test_path = \"/jukebox/falkner/Mae/macrocircuit_context_hormone_experiments/data/intact/103187_1/211107/proofread_sleap_output/211107_1031871_home_balbc.analysis.h5\"\n",
    "with h5py.File(test_path, \"r\") as f:\n",
    "    dset_names = list(f.keys())\n",
    "    locations = f[\"tracks\"][:].T\n",
    "    point_scores = f[\"point_scores\"][:].T\n",
    "    track_scores = f[\"tracking_scores\"][:].T\n",
    "    track_occupancy = f[\"track_occupancy\"][:]\n",
    "    \n",
    "fps = 40\n",
    "start_time = int(60 * fps)\n",
    "\n",
    "track_len = track_occupancy.shape[1]\n",
    "possible_pairs = []\n",
    "\n",
    "for i in range(track_len - 1):\n",
    "    overlap_idx = np.zeros((track_len,))\n",
    "    overlap_idx[i] = 1\n",
    "    overlap_idx[i + 1] = 1\n",
    "\n",
    "    len_overlap = np.where(np.all(track_occupancy == overlap_idx, axis = 1))[0]\n",
    "    if len(len_overlap) > 0 and len_overlap[-1] - len_overlap[0] > fps * 200:\n",
    "        possible_pairs.append((i, len_overlap[0], len_overlap[-1] - len_overlap[0]))\n",
    "\n",
    "if len(possible_pairs) > 1:\n",
    "    raise Exception(\"More than one pair of tracks found\")\n",
    "\n",
    "\n",
    "\n",
    "track_idx = possible_pairs[0][0]\n",
    "select_idx = np.array([track_idx, track_idx + 1])\n",
    "start_time = possible_pairs[0][1] + fps * 10\n",
    "end_time = start_time + possible_pairs[0][2] - fps * 10\n",
    "\n",
    "print(f\"Start frame: {start_time}, end frame: {end_time} with track {track_idx} and {track_idx + 1} selected\")\n",
    "\n",
    "filtered_track = track_occupancy[start_time: end_time, select_idx]\n",
    "filtered_loc = locations[start_time: end_time, select_idx]\n",
    "filtered_point_scores = point_scores[start_time: end_time, select_idx]\n",
    "filtered_track_scores = track_scores[start_time: end_time, select_idx]\n",
    "\n",
    "fig, axs = plt.subplots(2, 1, figsize = (12, 6), sharex = True)\n",
    "axs[0].imshow(track_occupancy.T, aspect = \"auto\")\n",
    "axs[0].set_title(\"Before\")\n",
    "axs[0].set_yticks(np.arange(track_len))\n",
    "\n",
    "axs[1].imshow(filtered_track.T, aspect = \"auto\")\n",
    "axs[1].set_title(f\"Start frame: {start_time}, end frame: {end_time} with track {track_idx} and {track_idx + 1} selected\")\n",
    "axs[1].set_yticks([0, 1])\n",
    "plt.show()\n",
    "plt.close(fig)"
   ]
  },
  {
   "cell_type": "code",
   "execution_count": null,
   "metadata": {},
   "outputs": [],
   "source": [
    "## Archived\n",
    "\n",
    "# test_path = \"/jukebox/falkner/Mae/macrocircuit_context_hormone_experiments/data/intact/103187_1/211107/proofread_sleap_output/211107_1031871_home_balbc.analysis.h5\"\n",
    "\n",
    "# with h5py.File(test_path, \"r\") as f:\n",
    "#     dset_names = list(f.keys())\n",
    "#     locations = f[\"tracks\"][:].T\n",
    "#     point_scores = f[\"point_scores\"][:].T\n",
    "#     track_scores = f[\"tracking_scores\"][:].T\n",
    "#     track_occupancy = f[\"track_occupancy\"][:]\n",
    "\n",
    "# fig, ax = plt.subplots(figsize = (12, 3))\n",
    "# ax.imshow(track_occupancy.T, aspect = \"auto\")\n",
    "# ax.set_title(\"Before\")\n",
    "\n",
    "# fps = 40\n",
    "# start_time = int(60 * fps)\n",
    "\n",
    "# occ_ratio = np.array([np.where(track_occupancy[:, i] == 0)[0].shape[0] / track_occupancy.shape[0] for i in range(track_occupancy.shape[1])])\n",
    "# select_idx = np.array([i for i in range(track_occupancy.shape[1]) if i not in np.where(occ_ratio > .9)[0]])\n",
    "\n",
    "# filtered_track = track_occupancy[start_time:, select_idx]\n",
    "# filtered_loc = locations[start_time:, select_idx]\n",
    "# filtered_point_scores = point_scores[start_time:, select_idx]\n",
    "# filtered_track_scores = track_scores[start_time:, select_idx]\n",
    "\n",
    "# fig, ax = plt.subplots(figsize = (12, 3))\n",
    "# ax.imshow(filtered_track.T, aspect = \"auto\")\n",
    "# ax.set_title(\"After\")"
   ]
  }
 ],
 "metadata": {
  "kernelspec": {
   "display_name": "Python 3 (ipykernel)",
   "language": "python",
   "name": "python3"
  },
  "language_info": {
   "codemirror_mode": {
    "name": "ipython",
    "version": 3
   },
   "file_extension": ".py",
   "mimetype": "text/x-python",
   "name": "python",
   "nbconvert_exporter": "python",
   "pygments_lexer": "ipython3",
   "version": "3.7.12"
  },
  "orig_nbformat": 4
 },
 "nbformat": 4,
 "nbformat_minor": 2
}
