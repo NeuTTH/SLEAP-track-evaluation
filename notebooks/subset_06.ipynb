{
 "cells": [
  {
   "cell_type": "code",
   "execution_count": 1,
   "metadata": {},
   "outputs": [],
   "source": [
    "## Preprocessing pipeline for all tracks\n",
    "\n",
    "## 4. egocentrize\n",
    "## 5. Normalize\n",
    "## 6. PCA\n",
    "\n",
    "import os\n",
    "from rich.progress import track\n",
    "from einops import rearrange\n",
    "from tqdm import tqdm\n",
    "\n",
    "import numpy as np\n",
    "\n",
    "import seaborn as sns\n",
    "import matplotlib.pyplot as plt\n",
    "\n",
    "from typing import Optional\n",
    "\n",
    "joint_list = np.array([\n",
    "    \"Nose\", \"Head\", \"Left Ear\",\n",
    "    \"Right Ear\", \"Trunk\", \"Tail Base\",\n",
    "    \"neck\", \"Left Hpaw\", \"Right Hpaw\",\n",
    "    \"Left Fpaw\", \"Right Fpaw\"\n",
    "])"
   ]
  },
  {
   "cell_type": "code",
   "execution_count": 2,
   "metadata": {},
   "outputs": [],
   "source": [
    "data_path = \"/scratch/gpfs/tt1131/rotation_project_spring/track_evaluation/data/\"\n",
    "m1_imp_rf_dict = np.load(os.path.join(data_path, \"intact_track_impute_m1_cubic_rf_032023.npy\"), allow_pickle=True).item()\n",
    "m2_imp_rf_dict = np.load(os.path.join(data_path, \"intact_track_impute_m2_cubic_rf_032023.npy\"), allow_pickle=True).item()"
   ]
  },
  {
   "cell_type": "code",
   "execution_count": 10,
   "metadata": {},
   "outputs": [],
   "source": [
    "date_list = np.array([i.split(\"_\")[0][:4] for i in [*m1_imp_rf_dict.keys()]])\n",
    "ok_dates = date_list[np.where(date_list > \"2109\")[0]]"
   ]
  },
  {
   "cell_type": "code",
   "execution_count": 16,
   "metadata": {},
   "outputs": [],
   "source": [
    "m1_imp_rf_loc = [m1_imp_rf_dict[key] for key in m1_imp_rf_dict.keys()]\n",
    "m1_imp_rf_nan = np.array([np.isnan(m1_imp_rf_loc[i]).sum() / (m1_imp_rf_loc[i].shape[0] * m1_imp_rf_loc[i].shape[1]) for i in range(len(m1_imp_rf_loc))])\n",
    "\n",
    "m2_imp_rf_loc = [m2_imp_rf_dict[key] for key in m2_imp_rf_dict.keys()]\n",
    "m2_imp_rf_nan = np.array([np.isnan(m2_imp_rf_loc[i]).sum() / (m2_imp_rf_loc[i].shape[0] * m2_imp_rf_loc[i].shape[1]) for i in range(len(m2_imp_rf_loc))])"
   ]
  },
  {
   "cell_type": "code",
   "execution_count": 17,
   "metadata": {},
   "outputs": [
    {
     "name": "stdout",
     "output_type": "stream",
     "text": [
      "(219,)\n",
      "(172,)\n",
      "97\n"
     ]
    }
   ],
   "source": [
    "no_nan_idx = np.where(m1_imp_rf_nan == 0)[0]\n",
    "print(no_nan_idx.shape)\n",
    "\n",
    "no_nan_idx_m2 = np.where(m2_imp_rf_nan == 0)[0]\n",
    "print(no_nan_idx_m2.shape)\n",
    "\n",
    "selected_m1 = [m1_imp_rf_loc[idx] for idx in no_nan_idx]\n",
    "selected_m2 = [m2_imp_rf_nan[idx] for idx in no_nan_idx_m2]\n",
    "\n",
    "## Check if there is intersection\n",
    "intersect_vid = np.intersect1d(np.array([*m1_imp_rf_dict.keys()])[no_nan_idx], np.array([*m2_imp_rf_dict.keys()])[no_nan_idx_m2])\n",
    "print(len(intersect_vid))"
   ]
  },
  {
   "cell_type": "code",
   "execution_count": 18,
   "metadata": {},
   "outputs": [],
   "source": [
    "## Further subset\n",
    "m1_common_idx = []\n",
    "m2_common_idx = []\n",
    "\n",
    "m1_keys = np.array([*m1_imp_rf_dict.keys()])\n",
    "m2_keys = np.array([*m2_imp_rf_dict.keys()])\n",
    "\n",
    "for vid_key in intersect_vid:\n",
    "    m1_common_idx.append(np.where(m1_keys == vid_key)[0][0])\n",
    "    m2_common_idx.append(np.where(m2_keys == vid_key)[0][0])\n",
    "\n",
    "common_selected_m1 = [rearrange(m1_imp_rf_loc[idx], \"t (j d) -> t j d\", j = 11, d = 2) for idx in m1_common_idx]\n",
    "common_selected_m2 = [rearrange(m2_imp_rf_loc[idx],\"t (j d) -> t j d\", j = 11, d = 2) for idx in m2_common_idx]"
   ]
  },
  {
   "cell_type": "code",
   "execution_count": 39,
   "metadata": {},
   "outputs": [],
   "source": [
    "## 1. subset the point scores\n",
    "\n",
    "data_path = \"/scratch/gpfs/tt1131/rotation_project_spring/track_evaluation/data/\"\n",
    "condition_list = [\"sham_gdx\", \"testosterone\", \"gdx\", \"intact\"]\n",
    "sample_dict = np.load(\n",
    "    os.path.join(data_path, f\"{condition_list[-1]}_track_dict_abrv.npy\"),\n",
    "    allow_pickle=True,\n",
    ").item()\n",
    "\n",
    "track_occupancy_list = []\n",
    "locations_list = []\n",
    "joint_scores_list = []\n",
    "\n",
    "joint_list = np.array([\n",
    "    \"Nose\", \"Head\", \"Left Ear\",\n",
    "    \"Right Ear\", \"Trunk\", \"Tail Base\",\n",
    "    \"Tail_tip\", \"t0\", \"t1\", \"t2\",\n",
    "    \"neck\", \"Left Hpaw\", \"Right Hpaw\",\n",
    "    \"Left Fpaw\", \"Right Fpaw\"\n",
    "])\n",
    "\n",
    "omit_joints_idx = np.array([\n",
    "    np.where(joint_list == \"Tail_tip\")[0][0],\n",
    "    np.where(joint_list == \"t0\")[0][0],\n",
    "    np.where(joint_list == \"t1\")[0][0],\n",
    "    np.where(joint_list == \"t2\")[0][0]\n",
    "])\n",
    "\n",
    "joints_idx = np.array([i for i in range(len(joint_list)) if i not in omit_joints_idx])\n",
    "\n",
    "joint_scores_list = []\n",
    "## Sorting different data into tracks, also get rid of some of the tails tracking\n",
    "for dict_key in sample_dict.keys():\n",
    "    js = sample_dict[dict_key][5][:, joints_idx, :]\n",
    "    joint_scores_list.append(js)"
   ]
  },
  {
   "cell_type": "code",
   "execution_count": 21,
   "metadata": {},
   "outputs": [],
   "source": [
    "# subset_joint_scores_m1 = [joint_scores_list[idx][:, :, 0] for idx in m1_common_idx]\n",
    "# subset_joint_scores_m2 = [joint_scores_list[idx][:, :, 1] for idx in m2_common_idx]\n",
    "\n",
    "# for m1_js, m2_js in zip(subset_joint_scores_m1, subset_joint_scores_m2):\n",
    "#     for f in range(m1_js.shape[1]):\n",
    "#         m1_js[:, f] = np.nan_to_num(m1_js[:, f], nan = np.nanmean(m1_js[:, f]))\n",
    "#         m2_js[:, f] = np.nan_to_num(m2_js[:, f], nan = np.nanmean(m2_js[:, f]))"
   ]
  },
  {
   "cell_type": "code",
   "execution_count": 40,
   "metadata": {},
   "outputs": [],
   "source": [
    "m1_max_scores = [np.max(i[:, :, 0]) for i in joint_scores_list]\n",
    "m2_max_scores = [np.max(i[:, :, 1]) for i in joint_scores_list]"
   ]
  },
  {
   "cell_type": "code",
   "execution_count": 41,
   "metadata": {},
   "outputs": [
    {
     "data": {
      "image/png": "[encoded data removed]",
      "text/plain": [
       "<Figure size 1000x500 with 2 Axes>"
      ]
     },
     "metadata": {},
     "output_type": "display_data"
    }
   ],
   "source": [
    "fig, axs = plt.subplots(1, 2, figsize = (10, 5))\n",
    "\n",
    "_ = axs[0].hist(m1_max_scores, bins = 10)\n",
    "_ = axs[1].hist(m2_max_scores, bins = 10)"
   ]
  }
 ],
 "metadata": {
  "kernelspec": {
   "display_name": "Python 3 (ipykernel)",
   "language": "python",
   "name": "python3"
  },
  "language_info": {
   "codemirror_mode": {
    "name": "ipython",
    "version": 3
   },
   "file_extension": ".py",
   "mimetype": "text/x-python",
   "name": "python",
   "nbconvert_exporter": "python",
   "pygments_lexer": "ipython3",
   "version": "3.9.12"
  },
  "orig_nbformat": 4
 },
 "nbformat": 4,
 "nbformat_minor": 2
}
