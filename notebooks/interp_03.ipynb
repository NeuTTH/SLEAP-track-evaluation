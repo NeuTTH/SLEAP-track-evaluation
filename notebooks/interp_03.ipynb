{
 "cells": [
  {
   "cell_type": "code",
   "execution_count": 1,
   "metadata": {},
   "outputs": [],
   "source": [
    "import os\n",
    "import rich\n",
    "from scipy import interpolate\n",
    "\n",
    "import numpy as np\n",
    "import pandas\n",
    "\n",
    "import matplotlib.pyplot as plt\n",
    "import seaborn as sns"
   ]
  },
  {
   "cell_type": "code",
   "execution_count": 2,
   "metadata": {},
   "outputs": [],
   "source": [
    "joint_list = [\n",
    "    \"Nose\", \"Head\", \"Left Ear\",\n",
    "    \"Right Ear\", \"Trunk\", \"Tail Base\",\n",
    "    \"Tail_tip\", \"t0\", \"t1\", \"t2\",\n",
    "    \"neck\", \"Left Hpaw\", \"Right Hpaw\",\n",
    "    \"Left Fpaw\", \"Right Fpaw\"\n",
    "]"
   ]
  },
  {
   "cell_type": "code",
   "execution_count": 3,
   "metadata": {},
   "outputs": [],
   "source": [
    "data_path = \"/mnt/cup/people/tt1131/projects/rotation_project_spring/tracks_evaluation/\"\n",
    "condition_list = [\"sham_gdx\", \"testosterone\", \"gdx\", \"intact\"]\n",
    "sample_dict = np.load(\n",
    "    os.path.join(data_path, f\"{condition_list[-1]}_track_dict_abrv.npy\"),\n",
    "    allow_pickle=True,\n",
    ").item()"
   ]
  },
  {
   "cell_type": "code",
   "execution_count": 4,
   "metadata": {},
   "outputs": [],
   "source": [
    "track_occupancy_list = []\n",
    "locations_list = []\n",
    "joint_scores_list = []\n",
    "\n",
    "for dict_key in sample_dict.keys():\n",
    "    t_o = sample_dict[dict_key][3]\n",
    "    loc = sample_dict[dict_key][4]\n",
    "    js = sample_dict[dict_key][5]\n",
    "    track_occupancy_list.append(t_o)\n",
    "    joint_scores_list.append(js)\n",
    "    locations_list.append(loc)"
   ]
  },
  {
   "cell_type": "code",
   "execution_count": 20,
   "metadata": {},
   "outputs": [
    {
     "data": {
      "application/vnd.jupyter.widget-view+json": {
       "model_id": "eb5493dc273d4eb9a0acb7f9b1d9805f",
       "version_major": 2,
       "version_minor": 0
      },
      "text/plain": [
       "Output()"
      ]
     },
     "metadata": {},
     "output_type": "display_data"
    }
   ],
   "source": [
    "import copy\n",
    "from skimage.measure import label\n",
    "from einops import rearrange\n",
    "from rich.progress import track\n",
    "\n",
    "joint_missing = []\n",
    "\n",
    "for j in np.arange(len(joint_list)):\n",
    "    joint_missing.append([])\n",
    "\n",
    "for j_loc in track(locations_list):\n",
    "    joint_null_count = copy.deepcopy(j_loc)[:, :, 0, 0]\n",
    "    for i in range(joint_null_count.shape[1]):\n",
    "        nan_idx = np.argwhere(np.isnan(j_loc[:, 0]))\n",
    "        j_loc[~nan_idx, i] = 0\n",
    "        j_loc[nan_idx, i] = 1\n",
    "        \n",
    "        connected = label(joint_null_count[:, i])\n",
    "        ccs = [np.argwhere(connected == i).squeeze() for i in range(connected.max())]\n",
    "        joint_missing[i].append(np.array([np.size(cc) for cc in ccs])[1:])"
   ]
  },
  {
   "cell_type": "code",
   "execution_count": 17,
   "metadata": {},
   "outputs": [
    {
     "name": "stdout",
     "output_type": "stream",
     "text": [
      "mean: 1.3944558823788116, medain: 1.0, std: 4.201138012389633, 75% quantile: 1.0\n"
     ]
    },
    {
     "data": {
      "text/plain": [
       "(0.0, 40.0)"
      ]
     },
     "execution_count": 17,
     "metadata": {},
     "output_type": "execute_result"
    },
    {
     "data": {
      "image/png": "[encoded data removed]",
      "text/plain": [
       "<Figure size 640x480 with 1 Axes>"
      ]
     },
     "metadata": {},
     "output_type": "display_data"
    }
   ],
   "source": [
    "joint_missing_np = np.concatenate(joint_missing)\n",
    "print(f\"mean: {np.mean(joint_missing_np)}, medain: {np.median(joint_missing_np)}, std: {np.std(joint_missing_np)}, 75% quantile: {np.quantile(joint_missing_np, 0.75)}\")\n",
    "_ = plt.hist(joint_missing_np, bins=500)\n",
    "plt.xlim(0, 40)"
   ]
  }
 ],
 "metadata": {
  "kernelspec": {
   "display_name": "Python 3",
   "language": "python",
   "name": "python3"
  },
  "language_info": {
   "codemirror_mode": {
    "name": "ipython",
    "version": 3
   },
   "file_extension": ".py",
   "mimetype": "text/x-python",
   "name": "python",
   "nbconvert_exporter": "python",
   "pygments_lexer": "ipython3",
   "version": "3.7.12"
  },
  "orig_nbformat": 4
 },
 "nbformat": 4,
 "nbformat_minor": 2
}
